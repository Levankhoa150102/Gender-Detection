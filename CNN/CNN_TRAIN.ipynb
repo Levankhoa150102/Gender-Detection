{
  "cells": [
    {
      "cell_type": "markdown",
      "metadata": {
        "id": "CTFw2rpsbQXn"
      },
      "source": [
        "**MOUNT DRIVE**"
      ]
    },
    {
      "cell_type": "code",
      "execution_count": 1,
      "metadata": {
        "colab": {
          "base_uri": "https://localhost:8080/"
        },
        "id": "zUYxss0D3FBu",
        "outputId": "579df005-c79d-4306-d44e-b834103f182f"
      },
      "outputs": [
        {
          "output_type": "stream",
          "name": "stdout",
          "text": [
            "Mounted at /content/drive/\n"
          ]
        }
      ],
      "source": [
        "from google.colab import drive\n",
        "drive.mount('/content/drive/')"
      ]
    },
    {
      "cell_type": "markdown",
      "metadata": {
        "id": "Urh-J-WQbWDv"
      },
      "source": [
        "#IMPORT THƯ VIỆN"
      ]
    },
    {
      "cell_type": "code",
      "execution_count": 2,
      "metadata": {
        "id": "FJtTrRzh3HQX"
      },
      "outputs": [],
      "source": [
        "import os\n",
        "import numpy as np\n",
        "import cv2 as cv\n",
        "from keras.models import Model, Sequential\n",
        "from tensorflow.keras.utils import to_categorical\n",
        "from sklearn.model_selection import train_test_split\n",
        "from keras.applications.vgg16 import preprocess_input\n",
        "from keras.layers import Dense, Conv2D, Flatten, MaxPooling2D\n",
        "from keras.preprocessing.image import img_to_array, ImageDataGenerator\n",
        "import matplotlib.pyplot as plt\n",
        "import glob\n",
        "import random"
      ]
    },
    {
      "cell_type": "code",
      "execution_count": 3,
      "metadata": {
        "id": "GmzwvQZ3bbSM"
      },
      "outputs": [],
      "source": [
        "img_dimensions = (100,100,3)\n",
        "data = []\n",
        "labels = []"
      ]
    },
    {
      "cell_type": "markdown",
      "metadata": {
        "id": "mhZ7ToJLbgw7"
      },
      "source": [
        "**TRUYỀN PATH TRAIN VÀ TEST**"
      ]
    },
    {
      "cell_type": "code",
      "execution_count": 4,
      "metadata": {
        "id": "7boYesPn3HJX"
      },
      "outputs": [],
      "source": [
        "train_path = '/content/drive/MyDrive/Gender_Dataset/GD_data/Train'\n",
        "test_path = '/content/drive/MyDrive/Gender_Dataset/GD_data/Test'"
      ]
    },
    {
      "cell_type": "markdown",
      "metadata": {
        "id": "olr0NoeSboyJ"
      },
      "source": [
        "**SỐ LƯỢNG IMAGE BỘ LỚP TRAIN VÀ SỐ LỚP**"
      ]
    },
    {
      "cell_type": "code",
      "execution_count": null,
      "metadata": {
        "colab": {
          "base_uri": "https://localhost:8080/"
        },
        "id": "UtRvmEraK1Ba",
        "outputId": "8b6a4212-4392-4153-eb21-3f1130937bfc"
      },
      "outputs": [
        {
          "name": "stdout",
          "output_type": "stream",
          "text": [
            "Found 8956 images belonging to 2 classes.\n"
          ]
        }
      ],
      "source": [
        "train_datagen = ImageDataGenerator(rescale = 1./255,\n",
        "                                    shear_range = 0.2,\n",
        "                                   zoom_range = 0.2,\n",
        "                                   horizontal_flip = True)\n",
        "training_set = train_datagen.flow_from_directory(train_path,\n",
        "                                                 target_size = (100,100),\n",
        "                                                 batch_size = 32,\n",
        "                                                 class_mode = 'binary')"
      ]
    },
    {
      "cell_type": "markdown",
      "metadata": {
        "id": "v9hsT6PpbwgC"
      },
      "source": [
        "#ĐỌC ẢNH TRONG TẬP TRAIN VÀ PHÂN LOẠI\n",
        "\n",
        "male: 0\n",
        "\n",
        "female: 1"
      ]
    },
    {
      "cell_type": "code",
      "execution_count": 5,
      "metadata": {
        "id": "hJdz8ka73Jth"
      },
      "outputs": [],
      "source": [
        "image_files = [f for f in glob.glob(train_path + \"/**/*\", recursive=True) if not os.path.isdir(f)]\n",
        "random.shuffle(image_files)"
      ]
    },
    {
      "cell_type": "code",
      "execution_count": 6,
      "metadata": {
        "id": "7w3oMC4l3LO0"
      },
      "outputs": [],
      "source": [
        "for img in image_files:\n",
        "\n",
        "    image = cv.imread(img)\n",
        "    \n",
        "    image = cv.resize(image, (img_dimensions[0],img_dimensions[1]))\n",
        "    image = img_to_array(image)\n",
        "    data.append(image)\n",
        "\n",
        "    label = img.split(os.path.sep)[-2] # /content/drive/MyDrive/Gender_Dataset/GD_data/Train/female/*\n",
        "    if label == \"female\":\n",
        "        label = 1\n",
        "    else:\n",
        "        label = 0\n",
        "        \n",
        "    labels.append([label]) # [[1], [0], [0], ...]\n"
      ]
    },
    {
      "cell_type": "markdown",
      "metadata": {
        "id": "QqEeTOS_cA-2"
      },
      "source": [
        "#TIỀN XỬ LÝ DỮ LIỆU VÀ PHÂN BỔ THÀNH TẬP TRAIN VÀ VAL"
      ]
    },
    {
      "cell_type": "code",
      "execution_count": 7,
      "metadata": {
        "id": "xxWRSGPc3LUk"
      },
      "outputs": [],
      "source": [
        "# pre-processing\n",
        "data = np.array(data, dtype=\"float\") / 255.0\n",
        "labels = np.array(labels)\n",
        "# split dataset for training and validation\n",
        "(X_train, X_val, y_train, y_val) = train_test_split(data, labels, test_size=0.2, random_state=40)\n",
        "\n",
        "# convert to one_hot vector\n",
        "y_train = to_categorical(y_train, num_classes=2) # [[1, 0], [0, 1], [0, 1], ...]\n",
        "y_val = to_categorical(y_val, num_classes=2)"
      ]
    },
    {
      "cell_type": "markdown",
      "metadata": {
        "id": "78l_wEXmcLGk"
      },
      "source": [
        "#XÂY DỰNG MODEL CNN"
      ]
    },
    {
      "cell_type": "code",
      "execution_count": 8,
      "metadata": {
        "colab": {
          "base_uri": "https://localhost:8080/"
        },
        "id": "fx0jDS4S6xM1",
        "outputId": "77c710cd-2d65-40ee-dc37-4acb1b5e1726"
      },
      "outputs": [
        {
          "output_type": "stream",
          "name": "stdout",
          "text": [
            "Model: \"sequential\"\n",
            "_________________________________________________________________\n",
            " Layer (type)                Output Shape              Param #   \n",
            "=================================================================\n",
            " conv2d (Conv2D)             (None, 98, 98, 16)        448       \n",
            "                                                                 \n",
            " max_pooling2d (MaxPooling2D  (None, 49, 49, 16)       0         \n",
            " )                                                               \n",
            "                                                                 \n",
            " conv2d_1 (Conv2D)           (None, 47, 47, 32)        4640      \n",
            "                                                                 \n",
            " max_pooling2d_1 (MaxPooling  (None, 23, 23, 32)       0         \n",
            " 2D)                                                             \n",
            "                                                                 \n",
            " conv2d_2 (Conv2D)           (None, 21, 21, 32)        9248      \n",
            "                                                                 \n",
            " max_pooling2d_2 (MaxPooling  (None, 10, 10, 32)       0         \n",
            " 2D)                                                             \n",
            "                                                                 \n",
            " conv2d_3 (Conv2D)           (None, 8, 8, 64)          18496     \n",
            "                                                                 \n",
            " max_pooling2d_3 (MaxPooling  (None, 4, 4, 64)         0         \n",
            " 2D)                                                             \n",
            "                                                                 \n",
            " conv2d_4 (Conv2D)           (None, 2, 2, 64)          36928     \n",
            "                                                                 \n",
            " max_pooling2d_4 (MaxPooling  (None, 1, 1, 64)         0         \n",
            " 2D)                                                             \n",
            "                                                                 \n",
            " flatten (Flatten)           (None, 64)                0         \n",
            "                                                                 \n",
            " dense (Dense)               (None, 128)               8320      \n",
            "                                                                 \n",
            " dense_1 (Dense)             (None, 2)                 258       \n",
            "                                                                 \n",
            "=================================================================\n",
            "Total params: 78,338\n",
            "Trainable params: 78,338\n",
            "Non-trainable params: 0\n",
            "_________________________________________________________________\n"
          ]
        }
      ],
      "source": [
        "#Model CNN\n",
        "model = Sequential()\n",
        "model.add(Conv2D(16, kernel_size=(3, 3), input_shape = (100, 100, 3), activation = 'relu',padding='valid'))\n",
        "\n",
        "model.add(MaxPooling2D(pool_size = (2, 2)))\n",
        "\n",
        "model.add(Conv2D(32, kernel_size=(3, 3), activation = 'relu'))\n",
        "model.add(MaxPooling2D(pool_size = (2, 2)))\n",
        "\n",
        "model.add(Conv2D(32, kernel_size=(3, 3), activation = 'relu'))\n",
        "model.add(MaxPooling2D(pool_size = (2, 2)))\n",
        "\n",
        "model.add(Conv2D(64, kernel_size=(3, 3), activation = 'relu'))\n",
        "model.add(MaxPooling2D(pool_size = (2, 2)))\n",
        "\n",
        "model.add(Conv2D(64, kernel_size=(3, 3), activation = 'relu'))\n",
        "model.add(MaxPooling2D(pool_size = (2, 2)))\n",
        "\n",
        "model.add(Flatten())\n",
        "\n",
        "model.add(Dense(units = 128, activation = 'relu'))\n",
        "model.add(Dense(units = 2, activation = 'softmax'))\n",
        "model.summary()\n",
        "\n",
        "# set compole parameter optimizer algorthem, loss function and accuracy.\n",
        "model.compile(optimizer = 'adam', loss = 'binary_crossentropy', metrics = ['accuracy'])"
      ]
    },
    {
      "cell_type": "markdown",
      "metadata": {
        "id": "wqaGLEVicQzW"
      },
      "source": [
        "**FIT MODEL BẰNG TẬP TRAIN VÀ TẬP VAL**\n",
        "\n",
        "EPOCHS = 20"
      ]
    },
    {
      "cell_type": "code",
      "execution_count": 9,
      "metadata": {
        "colab": {
          "base_uri": "https://localhost:8080/"
        },
        "id": "Orfnk4ik7nUg",
        "outputId": "cc898416-d4fa-4ffa-f779-43ec1918e257"
      },
      "outputs": [
        {
          "output_type": "stream",
          "name": "stdout",
          "text": [
            "Epoch 1/20\n",
            "10/10 - 59s - loss: 0.6881 - accuracy: 0.5380 - val_loss: 0.6819 - val_accuracy: 0.5530 - 59s/epoch - 6s/step\n",
            "Epoch 2/20\n",
            "10/10 - 57s - loss: 0.6655 - accuracy: 0.6044 - val_loss: 0.6555 - val_accuracy: 0.5999 - 57s/epoch - 6s/step\n",
            "Epoch 3/20\n",
            "10/10 - 59s - loss: 0.6375 - accuracy: 0.6355 - val_loss: 0.6183 - val_accuracy: 0.6596 - 59s/epoch - 6s/step\n",
            "Epoch 4/20\n",
            "10/10 - 56s - loss: 0.6221 - accuracy: 0.6482 - val_loss: 0.5985 - val_accuracy: 0.6903 - 56s/epoch - 6s/step\n",
            "Epoch 5/20\n",
            "10/10 - 57s - loss: 0.5851 - accuracy: 0.6943 - val_loss: 0.5791 - val_accuracy: 0.7054 - 57s/epoch - 6s/step\n",
            "Epoch 6/20\n",
            "10/10 - 57s - loss: 0.5417 - accuracy: 0.7342 - val_loss: 0.5049 - val_accuracy: 0.7796 - 57s/epoch - 6s/step\n",
            "Epoch 7/20\n",
            "10/10 - 57s - loss: 0.4929 - accuracy: 0.7736 - val_loss: 0.4471 - val_accuracy: 0.8064 - 57s/epoch - 6s/step\n",
            "Epoch 8/20\n",
            "10/10 - 59s - loss: 0.4514 - accuracy: 0.7951 - val_loss: 0.4034 - val_accuracy: 0.8337 - 59s/epoch - 6s/step\n",
            "Epoch 9/20\n",
            "10/10 - 57s - loss: 0.3801 - accuracy: 0.8485 - val_loss: 0.3344 - val_accuracy: 0.8694 - 57s/epoch - 6s/step\n",
            "Epoch 10/20\n",
            "10/10 - 57s - loss: 0.3474 - accuracy: 0.8587 - val_loss: 0.3089 - val_accuracy: 0.8744 - 57s/epoch - 6s/step\n",
            "Epoch 11/20\n",
            "10/10 - 57s - loss: 0.3104 - accuracy: 0.8745 - val_loss: 0.3429 - val_accuracy: 0.8443 - 57s/epoch - 6s/step\n",
            "Epoch 12/20\n",
            "10/10 - 57s - loss: 0.2893 - accuracy: 0.8837 - val_loss: 0.2715 - val_accuracy: 0.8890 - 57s/epoch - 6s/step\n",
            "Epoch 13/20\n",
            "10/10 - 60s - loss: 0.2522 - accuracy: 0.9084 - val_loss: 0.2515 - val_accuracy: 0.9007 - 60s/epoch - 6s/step\n",
            "Epoch 14/20\n",
            "10/10 - 58s - loss: 0.2312 - accuracy: 0.9153 - val_loss: 0.2392 - val_accuracy: 0.9029 - 58s/epoch - 6s/step\n",
            "Epoch 15/20\n",
            "10/10 - 58s - loss: 0.2217 - accuracy: 0.9182 - val_loss: 0.2327 - val_accuracy: 0.9057 - 58s/epoch - 6s/step\n",
            "Epoch 16/20\n",
            "10/10 - 57s - loss: 0.2191 - accuracy: 0.9185 - val_loss: 0.2227 - val_accuracy: 0.9107 - 57s/epoch - 6s/step\n",
            "Epoch 17/20\n",
            "10/10 - 58s - loss: 0.2046 - accuracy: 0.9263 - val_loss: 0.2218 - val_accuracy: 0.9118 - 58s/epoch - 6s/step\n",
            "Epoch 18/20\n",
            "10/10 - 59s - loss: 0.1983 - accuracy: 0.9284 - val_loss: 0.2405 - val_accuracy: 0.8996 - 59s/epoch - 6s/step\n",
            "Epoch 19/20\n",
            "10/10 - 57s - loss: 0.1982 - accuracy: 0.9260 - val_loss: 0.2654 - val_accuracy: 0.9001 - 57s/epoch - 6s/step\n",
            "Epoch 20/20\n",
            "10/10 - 57s - loss: 0.2102 - accuracy: 0.9196 - val_loss: 0.2648 - val_accuracy: 0.8990 - 57s/epoch - 6s/step\n"
          ]
        }
      ],
      "source": [
        "H = model.fit(X_train, y_train, steps_per_epoch=10, epochs=20, validation_data=(X_val, y_val), validation_steps=20, verbose=2)"
      ]
    },
    {
      "cell_type": "markdown",
      "metadata": {
        "id": "QPyCJQvccbuc"
      },
      "source": [
        "**LƯU MODEL**"
      ]
    },
    {
      "cell_type": "code",
      "execution_count": null,
      "metadata": {
        "id": "TK-GfcyZ8307"
      },
      "outputs": [],
      "source": [
        "model.save('/content/drive/MyDrive/Gender_Dataset/GD_data/GD_model_CNN.h5')"
      ]
    },
    {
      "cell_type": "markdown",
      "metadata": {
        "id": "lVdyZ8Hbcg1m"
      },
      "source": [
        "#BIỂU ĐỒ ĐÁNH GIÁ MODEL VỚI TẬP TRAIN VÀ VAL\n",
        "\n",
        "ACCURANCY\n",
        "\n",
        "LOSS"
      ]
    },
    {
      "cell_type": "code",
      "execution_count": 10,
      "metadata": {
        "colab": {
          "base_uri": "https://localhost:8080/",
          "height": 351
        },
        "id": "o5qhWwCz9VXB",
        "outputId": "9415f44b-3edc-4802-f91a-d377c1c30152"
      },
      "outputs": [
        {
          "output_type": "stream",
          "name": "stdout",
          "text": [
            "56/56 - 4s - loss: 0.2648 - accuracy: 0.8990 - 4s/epoch - 71ms/step\n",
            "Val Accuracy: 0.9\n",
            "Val Loss: 0.2648477554321289\n"
          ]
        },
        {
          "output_type": "display_data",
          "data": {
            "text/plain": [
              "<Figure size 432x288 with 1 Axes>"
            ],
            "image/png": "[encoded data removed]"
          },
          "metadata": {}
        }
      ],
      "source": [
        "plt.style.use('ggplot')\n",
        "plt.figure()\n",
        "val_loss, val_acc = model.evaluate(X_val, y_val, verbose=2)\n",
        "print('Val Accuracy:', round(val_acc,2))\n",
        "print('Val Loss:', val_loss)\n",
        "\n",
        "plt.plot(H.history['loss'],label=\"train_loss\")\n",
        "plt.plot(H.history['accuracy'], label=\"train_acc\")\n",
        "plt.plot(H.history['val_loss'],label=\"val_loss\")\n",
        "plt.plot(H.history['val_accuracy'], label=\"val_acc\")\n",
        "plt.title('model loss')\n",
        "plt.ylabel('loss')\n",
        "plt.xlabel('epoch')\n",
        "plt.legend(loc='best')\n",
        "plt.savefig('plot1.png')\n",
        "plt.show()"
      ]
    }
  ],
  "metadata": {
    "colab": {
      "collapsed_sections": [],
      "name": "Train_GD.ipynb",
      "provenance": []
    },
    "kernelspec": {
      "display_name": "Python 3",
      "name": "python3"
    },
    "language_info": {
      "name": "python"
    }
  },
  "nbformat": 4,
  "nbformat_minor": 0
}