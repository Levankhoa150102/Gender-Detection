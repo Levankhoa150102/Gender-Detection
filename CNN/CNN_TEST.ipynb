{
  "nbformat": 4,
  "nbformat_minor": 0,
  "metadata": {
    "colab": {
      "name": "Test_GD.ipynb",
      "provenance": [],
      "collapsed_sections": []
    },
    "kernelspec": {
      "name": "python3",
      "display_name": "Python 3"
    },
    "language_info": {
      "name": "python"
    }
  },
  "cells": [
    {
      "cell_type": "markdown",
      "source": [
        "**MOUNT DRIVE**"
      ],
      "metadata": {
        "id": "O1rIgqZsdhdr"
      }
    },
    {
      "cell_type": "code",
      "execution_count": null,
      "metadata": {
        "colab": {
          "base_uri": "https://localhost:8080/"
        },
        "id": "lqqiKRHzTKBX",
        "outputId": "eab9aa51-cb29-4787-c075-94ee1f7c6a28"
      },
      "outputs": [
        {
          "output_type": "stream",
          "name": "stdout",
          "text": [
            "Mounted at /content/drive/\n"
          ]
        }
      ],
      "source": [
        "from google.colab import drive\n",
        "drive.mount('/content/drive/')"
      ]
    },
    {
      "cell_type": "markdown",
      "source": [
        "#IMPORT THƯ VIỆN"
      ],
      "metadata": {
        "id": "33i_h1GYdoTF"
      }
    },
    {
      "cell_type": "code",
      "source": [
        "from keras.models import load_model\n",
        "from keras.preprocessing.image import img_to_array, ImageDataGenerator\n",
        "from keras.preprocessing import image\n",
        "from sklearn.model_selection import train_test_split\n",
        "from sklearn.metrics import accuracy_score\n",
        "import cv2 as cv\n",
        "import random\n",
        "import glob\n",
        "import os\n",
        "from PIL import Image\n",
        "import numpy as np\n",
        "img_dimensions = (100,100,3)\n",
        "data_test =[]\n",
        "labels=[]"
      ],
      "metadata": {
        "id": "U4KBfZZBTNd2"
      },
      "execution_count": null,
      "outputs": []
    },
    {
      "cell_type": "markdown",
      "source": [
        "#TRUYỀN PATH TEST VÀ LOAD MODEL ĐÃ TRAIN"
      ],
      "metadata": {
        "id": "3qlN5rXudt4_"
      }
    },
    {
      "cell_type": "code",
      "source": [
        "model = load_model('/content/drive/MyDrive/Gender_Dataset/GD_data/GD_model_CNN.h5')\n",
        "test_path = '/content/drive/MyDrive/Gender_Dataset/GD_data/Test'"
      ],
      "metadata": {
        "id": "Mxdfx3QgTUOx"
      },
      "execution_count": null,
      "outputs": []
    },
    {
      "cell_type": "markdown",
      "source": [
        "**SỐ LƯỢNG IMAGE Ở BỘ TEST VÀ SỐ LỚP**"
      ],
      "metadata": {
        "id": "sBWFRL4Rd42k"
      }
    },
    {
      "cell_type": "code",
      "source": [
        "test_datagen = ImageDataGenerator(rescale=1./255)\n",
        "test_set = test_datagen.flow_from_directory(test_path,\n",
        "                                                 target_size = (100,100),\n",
        "                                                 batch_size = 32,\n",
        "                                                 class_mode = 'binary')"
      ],
      "metadata": {
        "colab": {
          "base_uri": "https://localhost:8080/"
        },
        "id": "YV-82XaPYC-W",
        "outputId": "cc461120-31f7-46fd-b72e-0e4844ba5f56"
      },
      "execution_count": null,
      "outputs": [
        {
          "output_type": "stream",
          "name": "stdout",
          "text": [
            "Found 3545 images belonging to 2 classes.\n"
          ]
        }
      ]
    },
    {
      "cell_type": "markdown",
      "source": [
        "#ĐỌC ẢNH TRONG TẬP TEST VÀ PHÂN LOẠI\n",
        "\n",
        "male: 0\n",
        "\n",
        "female: 1"
      ],
      "metadata": {
        "id": "VkNUQVADeJjJ"
      }
    },
    {
      "cell_type": "code",
      "source": [
        "image_files = [f for f in glob.glob(test_path + \"/**/*\", recursive=True) if not os.path.isdir(f)]\n",
        "random.shuffle(image_files)"
      ],
      "metadata": {
        "id": "vSQQAwkATUSC"
      },
      "execution_count": null,
      "outputs": []
    },
    {
      "cell_type": "code",
      "source": [
        "for img in image_files:\n",
        "\n",
        "    image = cv.imread(img)\n",
        "    \n",
        "    image = cv.resize(image, (img_dimensions[0],img_dimensions[1]))\n",
        "    image = img_to_array(image)\n",
        "    data_test.append(image)\n",
        " \n",
        "    label = img.split(os.path.sep)[-2] # /content/drive/MyDrive/Gender_Dataset/GD_data/Test/female/*\n",
        "    if label == \"female\":\n",
        "        label = 1\n",
        "    else:\n",
        "        label = 0\n",
        "        \n",
        "    labels.append([label]) # [[1], [0], [0], ...]"
      ],
      "metadata": {
        "id": "m7J1pK6yTWsP"
      },
      "execution_count": null,
      "outputs": []
    },
    {
      "cell_type": "markdown",
      "source": [
        "#TIỀN XỬ LÝ DỮ LIỆU "
      ],
      "metadata": {
        "id": "kU-mHYrOeTud"
      }
    },
    {
      "cell_type": "code",
      "source": [
        "data_test = np.array(data_test, dtype=\"float\") / 255.0"
      ],
      "metadata": {
        "id": "6Bm2LizLTW0f"
      },
      "execution_count": null,
      "outputs": []
    },
    {
      "cell_type": "markdown",
      "source": [
        "#ĐÁNH GIÁ MODEL TRÊN BỘ TEST \n",
        "\n",
        "ACCURANCY"
      ],
      "metadata": {
        "id": "QqdIxlJcebyZ"
      }
    },
    {
      "cell_type": "code",
      "source": [
        "y_pred = model.predict(data_test)\n",
        "y_pred = y_pred.tolist()"
      ],
      "metadata": {
        "id": "VAxt7t-iKhAF"
      },
      "execution_count": null,
      "outputs": []
    },
    {
      "cell_type": "code",
      "source": [
        "predictions = []\n",
        "for i in y_pred:\n",
        "  predictions.append(i.index(max(i)))\n",
        "print(\"Acc:\",accuracy_score(labels, predictions))"
      ],
      "metadata": {
        "colab": {
          "base_uri": "https://localhost:8080/"
        },
        "id": "eNvkolDDri-2",
        "outputId": "ff4878e9-cbbc-41f4-cc84-6eaa5d50d51d"
      },
      "execution_count": null,
      "outputs": [
        {
          "output_type": "stream",
          "name": "stdout",
          "text": [
            "Acc: 0.9325811001410437\n"
          ]
        }
      ]
    }
  ]
}